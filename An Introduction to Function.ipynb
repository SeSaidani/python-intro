{
 "cells": [
  {
   "cell_type": "markdown",
   "id": "91963ed6",
   "metadata": {},
   "source": [
    "# An Introduction to Function"
   ]
  },
  {
   "cell_type": "markdown",
   "id": "dbdbc37a",
   "metadata": {},
   "source": [
    "function are a very important part of any programming language and python is no different. \n",
    "\n",
    "An important consideration when writing code is that you want to try and avoid writing the same code over and over again. We can avoid this by using functions.\n",
    "\n",
    "\n"
   ]
  },
  {
   "cell_type": "markdown",
   "id": "e07ae309",
   "metadata": {},
   "source": [
    "A function is a block of code that is run when it is called or in pandas when it is applied"
   ]
  },
  {
   "cell_type": "markdown",
   "id": "75a379b2",
   "metadata": {},
   "source": [
    "Lets build a simple function. A function in python is defined by using the `def` keyword"
   ]
  },
  {
   "cell_type": "code",
   "execution_count": 4,
   "id": "1a8f454e",
   "metadata": {},
   "outputs": [],
   "source": [
    "def hello_world_function():\n",
    "    print(\"Hello World\")"
   ]
  },
  {
   "cell_type": "markdown",
   "id": "e6ce4b22",
   "metadata": {},
   "source": [
    "We can then call this function by using the functions name, with the brackets. "
   ]
  },
  {
   "cell_type": "code",
   "execution_count": 5,
   "id": "de316cc6",
   "metadata": {},
   "outputs": [
    {
     "name": "stdout",
     "output_type": "stream",
     "text": [
      "Hello World\n"
     ]
    }
   ],
   "source": [
    "hello_world_function()"
   ]
  },
  {
   "cell_type": "markdown",
   "id": "6726f9c1",
   "metadata": {},
   "source": [
    "As you can see the `hello_world_function` just prints \"Hello World\""
   ]
  },
  {
   "cell_type": "markdown",
   "id": "00e18a34",
   "metadata": {},
   "source": [
    "It is also possible to provide arguments called parameters to functions which can then be used within the function to do \"something\""
   ]
  },
  {
   "cell_type": "code",
   "execution_count": 6,
   "id": "cd79ba58",
   "metadata": {},
   "outputs": [],
   "source": [
    "def my_addition_function(x, y):\n",
    "    z = x + y \n",
    "    print(z)"
   ]
  },
  {
   "cell_type": "code",
   "execution_count": 7,
   "id": "da0ab16e",
   "metadata": {},
   "outputs": [
    {
     "name": "stdout",
     "output_type": "stream",
     "text": [
      "3\n"
     ]
    }
   ],
   "source": [
    "my_addition_function(1, 2)"
   ]
  },
  {
   "cell_type": "code",
   "execution_count": 8,
   "id": "2f4d2985",
   "metadata": {},
   "outputs": [
    {
     "name": "stdout",
     "output_type": "stream",
     "text": [
      "22\n"
     ]
    }
   ],
   "source": [
    "my_addition_function(10, 12)"
   ]
  },
  {
   "cell_type": "markdown",
   "id": "43992221",
   "metadata": {},
   "source": [
    "We can also provide an unknown amount of parameters to the function in this case we add `*` to the parameter name"
   ]
  },
  {
   "cell_type": "code",
   "execution_count": 13,
   "id": "130fb51e",
   "metadata": {},
   "outputs": [],
   "source": [
    "def food_function(*args):\n",
    "    print(args[1])\n",
    "    \n",
    "    # Print the first value "
   ]
  },
  {
   "cell_type": "code",
   "execution_count": 14,
   "id": "73b938cf",
   "metadata": {},
   "outputs": [
    {
     "name": "stdout",
     "output_type": "stream",
     "text": [
      "steak\n"
     ]
    }
   ],
   "source": [
    "food_function('fish', 'steak')"
   ]
  },
  {
   "cell_type": "markdown",
   "id": "999783bd",
   "metadata": {},
   "source": [
    "These parameters are accessed through via a list using the `[0]` notation."
   ]
  },
  {
   "cell_type": "markdown",
   "id": "328db224",
   "metadata": {},
   "source": [
    "It is also possible to run the function with keywords the useful thing about this is it remove the requirement to put the parameters in an order"
   ]
  },
  {
   "cell_type": "code",
   "execution_count": 19,
   "id": "af726bf6",
   "metadata": {},
   "outputs": [],
   "source": [
    "def my_family_function(mum, dad):\n",
    "    print(\"My mum's name is \" + mum + \" and my dads name is \" + dad)"
   ]
  },
  {
   "cell_type": "code",
   "execution_count": 20,
   "id": "fea0076a",
   "metadata": {},
   "outputs": [
    {
     "name": "stdout",
     "output_type": "stream",
     "text": [
      "My mum's name is Laura and my dads name isFred\n"
     ]
    }
   ],
   "source": [
    "my_family_function(dad='Fred', mum='Laura')"
   ]
  },
  {
   "cell_type": "markdown",
   "id": "ecf36297",
   "metadata": {},
   "source": [
    "We can also do something similar as we did with the unknown number of arguments. We can use the `**` to signify an unknown number of parameters in this case a dictionary is provided to the function and we can access the parameters from the dictionary"
   ]
  },
  {
   "cell_type": "code",
   "execution_count": 21,
   "id": "4dfc9b84",
   "metadata": {},
   "outputs": [],
   "source": [
    "def my_family_function(**family):\n",
    "    print(\"My mum's name is \" + family['mum'] + \" and my dads name is \" + family['dad'])"
   ]
  },
  {
   "cell_type": "code",
   "execution_count": 22,
   "id": "537e2442",
   "metadata": {},
   "outputs": [
    {
     "name": "stdout",
     "output_type": "stream",
     "text": [
      "My mum's name is Laura and my dads name is Fred\n"
     ]
    }
   ],
   "source": [
    "my_family_function(mum='Laura', dad='Fred')"
   ]
  },
  {
   "cell_type": "markdown",
   "id": "12bb2638",
   "metadata": {},
   "source": [
    "Another very important features of parameter is the ability to set defaults this means that you can call a function without providing a parameter with a default, the function will then just use the default for the parameter"
   ]
  },
  {
   "cell_type": "code",
   "execution_count": 23,
   "id": "a298a6b1",
   "metadata": {},
   "outputs": [],
   "source": [
    "def jedi_function(name=\"Obi Wan\"):\n",
    "    print(name + \" is a jedi\")"
   ]
  },
  {
   "cell_type": "code",
   "execution_count": 24,
   "id": "f8e0acc1",
   "metadata": {},
   "outputs": [
    {
     "name": "stdout",
     "output_type": "stream",
     "text": [
      "Obi Wan is a jedi\n"
     ]
    }
   ],
   "source": [
    "jedi_function()"
   ]
  },
  {
   "cell_type": "code",
   "execution_count": 25,
   "id": "f5b4d7d4",
   "metadata": {},
   "outputs": [
    {
     "name": "stdout",
     "output_type": "stream",
     "text": [
      "Luke is a jedi\n"
     ]
    }
   ],
   "source": [
    "jedi_function(name='Luke')"
   ]
  },
  {
   "cell_type": "markdown",
   "id": "3f638fe3",
   "metadata": {},
   "source": [
    "We have seen so far that we get a function to \"do something\". We can also get a function to do something and return is a value (or other data type). We do this using the `return` statement."
   ]
  },
  {
   "cell_type": "code",
   "execution_count": 26,
   "id": "8db484de",
   "metadata": {},
   "outputs": [],
   "source": [
    "def my_multiplication_function(a,b):\n",
    "    z = a * b \n",
    "    return z"
   ]
  },
  {
   "cell_type": "code",
   "execution_count": 27,
   "id": "a00697b2",
   "metadata": {},
   "outputs": [],
   "source": [
    "f = my_multiplication_function(4, 5)"
   ]
  },
  {
   "cell_type": "code",
   "execution_count": 28,
   "id": "c08727f9",
   "metadata": {},
   "outputs": [
    {
     "name": "stdout",
     "output_type": "stream",
     "text": [
      "20\n"
     ]
    }
   ],
   "source": [
    "print(f)"
   ]
  },
  {
   "cell_type": "markdown",
   "id": "4b6be52f",
   "metadata": {},
   "source": [
    "We can also provide any data type to a function and it will be used within the function as that data type. Lets see this with a dictionary"
   ]
  },
  {
   "cell_type": "code",
   "execution_count": 32,
   "id": "27825eef",
   "metadata": {},
   "outputs": [],
   "source": [
    "def fruit_counter(fruits):\n",
    "    print(\"I have \" + str(fruits['bananas']) + \" bananas\")\n",
    "    print(\"I have \" + str(fruits['apples']) + \" apples\")\n",
    "    print(\"I have \" + str(fruits['pears']) + \" pears\")\n",
    "    \n",
    "    total_fruits = fruits['bananas'] + fruits['apples'] + fruits['pears']\n",
    "    \n",
    "    \n",
    "    print(\"I have \" + str(total_fruits) + \" fruits\")"
   ]
  },
  {
   "cell_type": "code",
   "execution_count": 33,
   "id": "b1020038",
   "metadata": {},
   "outputs": [
    {
     "name": "stdout",
     "output_type": "stream",
     "text": [
      "I have 7 bananas\n",
      "I have 8 apples\n",
      "I have 3 pears\n",
      "I have 18 fruits\n"
     ]
    }
   ],
   "source": [
    "fruits_dictionary  = {\"bananas\" : 7, \"apples\" : 8, \"pears\" : 3}\n",
    "\n",
    "fruit_counter(fruits_dictionary)"
   ]
  },
  {
   "cell_type": "markdown",
   "id": "b0f4b45d",
   "metadata": {},
   "source": [
    "As we have seen before we can actually use function within pandas using apply "
   ]
  },
  {
   "cell_type": "code",
   "execution_count": 35,
   "id": "1f3423ea",
   "metadata": {},
   "outputs": [],
   "source": [
    "import pandas as pd\n",
    "\n",
    "data = pd.read_csv('./data/titanic.csv')"
   ]
  },
  {
   "cell_type": "code",
   "execution_count": 36,
   "id": "6e6d17aa",
   "metadata": {},
   "outputs": [
    {
     "data": {
      "text/html": [
       "<div>\n",
       "<style scoped>\n",
       "    .dataframe tbody tr th:only-of-type {\n",
       "        vertical-align: middle;\n",
       "    }\n",
       "\n",
       "    .dataframe tbody tr th {\n",
       "        vertical-align: top;\n",
       "    }\n",
       "\n",
       "    .dataframe thead th {\n",
       "        text-align: right;\n",
       "    }\n",
       "</style>\n",
       "<table border=\"1\" class=\"dataframe\">\n",
       "  <thead>\n",
       "    <tr style=\"text-align: right;\">\n",
       "      <th></th>\n",
       "      <th>PassengerId</th>\n",
       "      <th>Survived</th>\n",
       "      <th>Pclass</th>\n",
       "      <th>Name</th>\n",
       "      <th>Sex</th>\n",
       "      <th>Age</th>\n",
       "      <th>SibSp</th>\n",
       "      <th>Parch</th>\n",
       "      <th>Ticket</th>\n",
       "      <th>Fare</th>\n",
       "      <th>Cabin</th>\n",
       "      <th>Embarked</th>\n",
       "    </tr>\n",
       "  </thead>\n",
       "  <tbody>\n",
       "    <tr>\n",
       "      <th>0</th>\n",
       "      <td>1</td>\n",
       "      <td>0</td>\n",
       "      <td>3</td>\n",
       "      <td>Braund, Mr. Owen Harris</td>\n",
       "      <td>male</td>\n",
       "      <td>22.0</td>\n",
       "      <td>1</td>\n",
       "      <td>0</td>\n",
       "      <td>A/5 21171</td>\n",
       "      <td>7.2500</td>\n",
       "      <td>NaN</td>\n",
       "      <td>S</td>\n",
       "    </tr>\n",
       "    <tr>\n",
       "      <th>1</th>\n",
       "      <td>2</td>\n",
       "      <td>1</td>\n",
       "      <td>1</td>\n",
       "      <td>Cumings, Mrs. John Bradley (Florence Briggs Th...</td>\n",
       "      <td>female</td>\n",
       "      <td>38.0</td>\n",
       "      <td>1</td>\n",
       "      <td>0</td>\n",
       "      <td>PC 17599</td>\n",
       "      <td>71.2833</td>\n",
       "      <td>C85</td>\n",
       "      <td>C</td>\n",
       "    </tr>\n",
       "    <tr>\n",
       "      <th>2</th>\n",
       "      <td>3</td>\n",
       "      <td>1</td>\n",
       "      <td>3</td>\n",
       "      <td>Heikkinen, Miss. Laina</td>\n",
       "      <td>female</td>\n",
       "      <td>26.0</td>\n",
       "      <td>0</td>\n",
       "      <td>0</td>\n",
       "      <td>STON/O2. 3101282</td>\n",
       "      <td>7.9250</td>\n",
       "      <td>NaN</td>\n",
       "      <td>S</td>\n",
       "    </tr>\n",
       "    <tr>\n",
       "      <th>3</th>\n",
       "      <td>4</td>\n",
       "      <td>1</td>\n",
       "      <td>1</td>\n",
       "      <td>Futrelle, Mrs. Jacques Heath (Lily May Peel)</td>\n",
       "      <td>female</td>\n",
       "      <td>35.0</td>\n",
       "      <td>1</td>\n",
       "      <td>0</td>\n",
       "      <td>113803</td>\n",
       "      <td>53.1000</td>\n",
       "      <td>C123</td>\n",
       "      <td>S</td>\n",
       "    </tr>\n",
       "    <tr>\n",
       "      <th>4</th>\n",
       "      <td>5</td>\n",
       "      <td>0</td>\n",
       "      <td>3</td>\n",
       "      <td>Allen, Mr. William Henry</td>\n",
       "      <td>male</td>\n",
       "      <td>35.0</td>\n",
       "      <td>0</td>\n",
       "      <td>0</td>\n",
       "      <td>373450</td>\n",
       "      <td>8.0500</td>\n",
       "      <td>NaN</td>\n",
       "      <td>S</td>\n",
       "    </tr>\n",
       "  </tbody>\n",
       "</table>\n",
       "</div>"
      ],
      "text/plain": [
       "   PassengerId  Survived  Pclass  \\\n",
       "0            1         0       3   \n",
       "1            2         1       1   \n",
       "2            3         1       3   \n",
       "3            4         1       1   \n",
       "4            5         0       3   \n",
       "\n",
       "                                                Name     Sex   Age  SibSp  \\\n",
       "0                            Braund, Mr. Owen Harris    male  22.0      1   \n",
       "1  Cumings, Mrs. John Bradley (Florence Briggs Th...  female  38.0      1   \n",
       "2                             Heikkinen, Miss. Laina  female  26.0      0   \n",
       "3       Futrelle, Mrs. Jacques Heath (Lily May Peel)  female  35.0      1   \n",
       "4                           Allen, Mr. William Henry    male  35.0      0   \n",
       "\n",
       "   Parch            Ticket     Fare Cabin Embarked  \n",
       "0      0         A/5 21171   7.2500   NaN        S  \n",
       "1      0          PC 17599  71.2833   C85        C  \n",
       "2      0  STON/O2. 3101282   7.9250   NaN        S  \n",
       "3      0            113803  53.1000  C123        S  \n",
       "4      0            373450   8.0500   NaN        S  "
      ]
     },
     "execution_count": 36,
     "metadata": {},
     "output_type": "execute_result"
    }
   ],
   "source": [
    "data.head()"
   ]
  },
  {
   "cell_type": "code",
   "execution_count": 37,
   "id": "cbff69bf",
   "metadata": {},
   "outputs": [],
   "source": [
    "def adult_function(age):\n",
    "    if age >= 18:\n",
    "        return 'adult'\n",
    "    else:\n",
    "        return 'child'"
   ]
  },
  {
   "cell_type": "code",
   "execution_count": 39,
   "id": "5c43ed6f",
   "metadata": {},
   "outputs": [],
   "source": [
    "data['is_adult'] = data['Age'].apply(adult_function)"
   ]
  },
  {
   "cell_type": "code",
   "execution_count": 40,
   "id": "af278935",
   "metadata": {},
   "outputs": [
    {
     "data": {
      "text/plain": [
       "is_adult\n",
       "adult    601\n",
       "child    113\n",
       "Name: Age, dtype: int64"
      ]
     },
     "execution_count": 40,
     "metadata": {},
     "output_type": "execute_result"
    }
   ],
   "source": [
    "data.groupby(['is_adult'])['Age'].count()"
   ]
  },
  {
   "cell_type": "markdown",
   "id": "7ea80cd7",
   "metadata": {},
   "source": [
    "### Exercises"
   ]
  },
  {
   "cell_type": "markdown",
   "id": "80692eb8",
   "metadata": {},
   "source": [
    "1. Write a function which will determine if someone paid more than \"10\" for their ticket in the Titanic data"
   ]
  },
  {
   "cell_type": "markdown",
   "id": "b1dccfa6",
   "metadata": {},
   "source": [
    "2. Write a function which will convert GBP to USD and print the output"
   ]
  },
  {
   "cell_type": "markdown",
   "id": "5503c776",
   "metadata": {},
   "source": [
    "3. Write a function which will take in an unknown amount of parameters and multiply them together "
   ]
  }
 ],
 "metadata": {
  "kernelspec": {
   "display_name": "Python 3 (ipykernel)",
   "language": "python",
   "name": "python3"
  },
  "language_info": {
   "codemirror_mode": {
    "name": "ipython",
    "version": 3
   },
   "file_extension": ".py",
   "mimetype": "text/x-python",
   "name": "python",
   "nbconvert_exporter": "python",
   "pygments_lexer": "ipython3",
   "version": "3.9.7"
  }
 },
 "nbformat": 4,
 "nbformat_minor": 5
}
